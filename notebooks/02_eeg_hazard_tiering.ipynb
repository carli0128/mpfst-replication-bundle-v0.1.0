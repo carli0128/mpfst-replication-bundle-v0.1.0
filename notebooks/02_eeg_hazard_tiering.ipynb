{
  "cells": [
    {
      "cell_type": "markdown",
      "metadata": {},
      "source": [
        "# MPFST Example: EEG Shell\u2011Jump Hazard vs m\u2113 (EEGBCI)\n",
        "This notebook downloads a small EEG **EEGBCI** dataset via *MNE*, computes coherence metrics (\u03bc, \u03b3, H) and m\u2113, detects **octave shell\u2011jumps** with the SSM, and plots the **hazard of shell\u2011jumps vs m\u2113** (unimodal edge\u2011of\u2011coherence law)."
      ]
    },
    {
      "cell_type": "code",
      "metadata": {},
      "execution_count": null,
      "outputs": [],
      "source": [
        "import numpy as np, pandas as pd, matplotlib.pyplot as plt\n",
        "from mne.datasets import eegbci\n",
        "import mne\n",
        "from mpfst.coherence.metrics import spectral_slope_gamma, hurst_dfa, heavy_tail_mu_hill\n",
        "from mpfst.coherence.meter import compute_m_l\n",
        "from mpfst.spectral.octave_jump import detect_shell_jumps_series\n",
        "from mpfst.nulls.phase_randomize import phase_randomize\n",
        "from mpfst.gating.hazard import hazard_curve\n",
        "import pathlib, os\n",
        "mne.set_log_level('WARNING')\n"
      ]
    },
    {
      "cell_type": "markdown",
      "metadata": {},
      "source": [
        "## 1. Fetch EEGBCI runs (subject 1, a few short runs) and prepare a single\u2011channel trace\n",
        "*Internet required for first run; cached afterwards by MNE.*"
      ]
    },
    {
      "cell_type": "code",
      "metadata": {},
      "execution_count": null,
      "outputs": [],
      "source": [
        "subject = 1\n",
        "runs = [3,7,11]  # motor imagery runs\n",
        "paths = eegbci.load_data(subject, runs)\n",
        "raws = [mne.io.read_raw_edf(p, preload=True) for p in paths]\n",
        "raw = mne.concatenate_raws(raws)\n",
        "raw.rename_channels(lambda s: s.strip('.'))\n",
        "raw.pick_types(eeg=True)\n",
        "raw.set_montage('standard_1020', on_missing='ignore')\n",
        "raw.resample(128.)\n",
        "fs = raw.info['sfreq']\n",
        "ch = 'Cz' if 'Cz' in raw.ch_names else raw.ch_names[0]\n",
        "x = raw.get_data(picks=[ch])[0]\n",
        "print(f'Channel: {ch}, fs={fs}')\n"
      ]
    },
    {
      "cell_type": "markdown",
      "metadata": {},
      "source": [
        "## 2. Sliding\u2011window coherence metrics \u2192 m\u2113"
      ]
    },
    {
      "cell_type": "code",
      "metadata": {},
      "execution_count": null,
      "outputs": [],
      "source": [
        "win = int(fs*4)  # 4 s\n",
        "hop = int(fs*2)  # 50% overlap\n",
        "ml, mu_s, ga_s, H_s, times = [], [], [], [], []\n",
        "for start in range(0, len(x)-win, hop):\n",
        "    seg = x[start:start+win]\n",
        "    mu = heavy_tail_mu_hill(seg)\n",
        "    ga = spectral_slope_gamma(seg, fs=fs, fmin=1.0, fmax=40.0)\n",
        "    H  = hurst_dfa(seg, min_scale=8, max_scale=min(512, win//2))\n",
        "    m  = compute_m_l(mu, ga, H)\n",
        "    ml.append(m); mu_s.append(mu); ga_s.append(ga); H_s.append(H); times.append((start+win/2)/fs)\n",
        "ml = np.array(ml); times = np.array(times)\n",
        "print(f'm\u2113: mean={np.nanmean(ml):.3f}, 10\u201390%={np.nanpercentile(ml,[10,90])}')\n"
      ]
    },
    {
      "cell_type": "markdown",
      "metadata": {},
      "source": [
        "## 3. Shell\u2011jump detection (octave\u2011spaced bands)"
      ]
    },
    {
      "cell_type": "code",
      "metadata": {},
      "execution_count": null,
      "outputs": [],
      "source": [
        "fmin, fmax = 2.0, 40.0\n",
        "out = detect_shell_jumps_series(x, fs, fmin, fmax, n_bands=7, energy_min=None, min_gap=int(fs*0.25))\n",
        "jumps = out['jumps']\n",
        "print(f'Found {len(jumps)} shell\u2011jumps')\n",
        "jump_times = np.array([j[0]/fs for j in jumps])\n",
        "jump_deltas = np.array([j[3] for j in jumps])\n",
        "# Hazard vs m\u2113: align jumps to nearest m\u2113 window center\n",
        "event_flags = np.zeros_like(ml, dtype=bool)\n",
        "for jt in jump_times:\n",
        "    idx = np.argmin(np.abs(times - jt))\n",
        "    if 0<=idx<len(event_flags): event_flags[idx] = True\n",
        "centers, haz = hazard_curve(ml, event_flags, bins=16)\n",
        "# Plots (one per figure, no specified colors)\n",
        "plt.figure(); plt.plot(times, ml); plt.xlabel('Time (s)'); plt.ylabel('m\u2113'); plt.title('m\u2113 over time'); plt.show()\n",
        "plt.figure(); plt.hist(jump_deltas, bins=np.linspace(-2,2,25)); plt.xlabel('\u0394log2 f'); plt.ylabel('count'); plt.title('Shell\u2011jump magnitudes'); plt.show()\n",
        "plt.figure(); plt.plot(centers, haz, marker='o'); plt.xlabel('m\u2113'); plt.ylabel('jump hazard'); plt.title('Shell\u2011jump hazard vs m\u2113'); plt.show()\n"
      ]
    }
  ],
  "metadata": {
    "kernelspec": {
      "display_name": "Python 3",
      "language": "python",
      "name": "python3"
    },
    "language_info": {
      "name": "python",
      "version": "3.11"
    }
  },
  "nbformat": 4,
  "nbformat_minor": 5
}