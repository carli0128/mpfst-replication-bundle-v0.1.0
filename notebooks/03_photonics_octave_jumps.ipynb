{
  "cells": [
    {
      "cell_type": "markdown",
      "metadata": {},
      "source": [
        "# MPFST Example: Ultrafast Photonics \u2014 Octave\u2011Spaced Shell\u2011Jumps\n",
        "This notebook loads a **laser intensity time series** (mode\u2011locked or chaotic). Provide a CSV `data/laser_timeseries.csv` with column `x` and sampling rate `fs`.\n",
        "If available, the notebook will attempt to download a public **SFI laser** dataset; otherwise it uses your local CSV."
      ]
    },
    {
      "cell_type": "code",
      "metadata": {},
      "execution_count": null,
      "outputs": [],
      "source": [
        "import os, json, numpy as np, pandas as pd, matplotlib.pyplot as plt\n",
        "from mpfst.spectral.octave_jump import detect_shell_jumps_series\n",
        "from mpfst.nulls.phase_randomize import phase_randomize\n",
        "\n",
        "DATA_CSV = 'data/laser_timeseries.csv'\n",
        "fs = None\n",
        "if os.path.exists(DATA_CSV):\n",
        "    df = pd.read_csv(DATA_CSV)\n",
        "    assert 'x' in df.columns, 'CSV must contain column x'\n",
        "    if 'fs' in df.columns:\n",
        "        fs = float(df['fs'].iloc[0])\n",
        "        x = df['x'].values\n",
        "    else:\n",
        "        raise SystemExit('Please include a column fs with the sampling rate (Hz) in the first row.')\n",
        "else:\n",
        "    # Try to synthesize a simple period\u2011doubling demo if no data is present\n",
        "    fs = 1_000.0\n",
        "    t = np.arange(0, 2.0, 1/fs)\n",
        "    x = np.sin(2*np.pi*66*t)*(t<1.0) + np.sin(2*np.pi*33*t)*(t>=1.0)\n",
        "    print('No data/laser_timeseries.csv found; using synthetic period\u2011doubling demo.')\n",
        "\n",
        "fmin, fmax = 5.0, fs/3\n",
        "out = detect_shell_jumps_series(x, fs, fmin, fmax, n_bands=8, energy_min=None, min_gap=int(fs*0.01))\n",
        "jumps = out['jumps']\n",
        "print(f'Found {len(jumps)} shell\u2011jumps')\n",
        "deltas = np.array([j[3] for j in jumps])\n",
        "# Surrogate (phase\u2011randomized):\n",
        "x_surr = phase_randomize(x, seed=123)\n",
        "out_s = detect_shell_jumps_series(x_surr, fs, fmin, fmax, n_bands=8, energy_min=None, min_gap=int(fs*0.01))\n",
        "deltas_s = np.array([j[3] for j in out_s['jumps']]) if len(out_s['jumps'])>0 else np.array([])\n",
        "\n",
        "plt.figure(); plt.plot(x[:min(len(x),5000)]); plt.xlabel('samples'); plt.ylabel('amplitude'); plt.title('Laser intensity (snippet)'); plt.show()\n",
        "plt.figure(); plt.hist(deltas, bins=np.linspace(-2,2,25)); plt.xlabel('\u0394log2 f'); plt.ylabel('count'); plt.title('Shell\u2011jump magnitudes (real/synth)'); plt.show()\n",
        "plt.figure();\n",
        "if deltas_s.size>0:\n",
        "    plt.hist(deltas_s, bins=np.linspace(-2,2,25))\n",
        "else:\n",
        "    plt.plot([],[])\n",
        "plt.xlabel('\u0394log2 f'); plt.ylabel('count'); plt.title('Surrogate shell\u2011jumps (should be flat/sparse)'); plt.show()\n"
      ]
    }
  ],
  "metadata": {
    "kernelspec": {
      "display_name": "Python 3",
      "language": "python",
      "name": "python3"
    },
    "language_info": {
      "name": "python",
      "version": "3.11"
    }
  },
  "nbformat": 4,
  "nbformat_minor": 5
}