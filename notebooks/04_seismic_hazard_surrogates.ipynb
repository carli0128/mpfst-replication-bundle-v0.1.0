{
  "cells": [
    {
      "cell_type": "markdown",
      "metadata": {},
      "source": [
        "# MPFST Example: Seismic Shell\u2011Jump Hazard vs m\u2113 (IRIS via ObsPy)\n",
        "This notebook uses **ObsPy** to fetch broadband seismic waveforms from IRIS for a short window around a known event,\n",
        "then computes coherence metrics and **SSM shell\u2011jumps**, and plots **hazard vs m\u2113**. Internet required."
      ]
    },
    {
      "cell_type": "code",
      "metadata": {},
      "execution_count": null,
      "outputs": [],
      "source": [
        "import numpy as np, pandas as pd, matplotlib.pyplot as plt\n",
        "from obspy import UTCDateTime\n",
        "from obspy.clients.fdsn import Client\n",
        "from mpfst.coherence.metrics import spectral_slope_gamma, hurst_dfa, heavy_tail_mu_hill\n",
        "from mpfst.coherence.meter import compute_m_l\n",
        "from mpfst.spectral.octave_jump import detect_shell_jumps_series\n",
        "from mpfst.nulls.time_shuffle import time_shuffle\n",
        "\n",
        "# Parameters: network/station/channel and time window (edit as needed)\n",
        "client = Client('IRIS')\n",
        "net, sta, loc, cha = 'IU','ANMO','00','BHZ'\n",
        "t0 = UTCDateTime('2010-02-27T06:45:00')  # Chile M8.8 mainshock window (example)\n",
        "t1 = t0 + 60*10\n",
        "st = client.get_waveforms(net, sta, loc, cha, t0, t1)\n",
        "tr = st[0].detrend('linear'); tr.filter('bandpass', freqmin=0.05, freqmax=5.0)\n",
        "x = tr.data.astype(float); fs = tr.stats.sampling_rate\n",
        "print(f'Fetched {net}.{sta}.{cha}, fs={fs}')\n"
      ]
    },
    {
      "cell_type": "markdown",
      "metadata": {},
      "source": [
        "## Coherence metrics \u2192 m\u2113 (sliding windows) and SSM shell\u2011jumps"
      ]
    },
    {
      "cell_type": "code",
      "metadata": {},
      "execution_count": null,
      "outputs": [],
      "source": [
        "win = int(fs*60)   # 60 s\n",
        "hop = int(fs*30)   # 50% overlap\n",
        "ml, times = [], []\n",
        "for start in range(0, len(x)-win, hop):\n",
        "    seg = x[start:start+win]\n",
        "    mu = heavy_tail_mu_hill(seg)\n",
        "    ga = spectral_slope_gamma(seg, fs=fs, fmin=0.05, fmax=2.0)\n",
        "    H  = hurst_dfa(seg, min_scale=8, max_scale=min(4096, win//2))\n",
        "    ml.append(compute_m_l(mu, ga, H)); times.append((start+win/2)/fs)\n",
        "ml = np.array(ml); times = np.array(times)\n",
        "\n",
        "out = detect_shell_jumps_series(x, fs, fmin=0.05, fmax=5.0, n_bands=8, energy_min=None, min_gap=int(fs*5))\n",
        "jumps = out['jumps']\n",
        "jt = np.array([j[0]/fs for j in jumps])\n",
        "deltas = np.array([j[3] for j in jumps])\n",
        "event_flags = np.zeros_like(ml, dtype=bool)\n",
        "for t in jt:\n",
        "    idx = np.argmin(np.abs(times - t))\n",
        "    if 0<=idx<len(event_flags): event_flags[idx]=True\n",
        "from mpfst.gating.hazard import hazard_curve\n",
        "c, h = hazard_curve(ml, event_flags, bins=16)\n",
        "plt.figure(); plt.plot(times/60.0, ml); plt.xlabel('Time (min)'); plt.ylabel('m\u2113'); plt.title('m\u2113 over time'); plt.show()\n",
        "plt.figure(); plt.hist(deltas, bins=np.linspace(-2,2,21)); plt.xlabel('\u0394log2 f'); plt.ylabel('count'); plt.title('Shell\u2011jump magnitudes'); plt.show()\n",
        "plt.figure(); plt.plot(c, h, marker='o'); plt.xlabel('m\u2113'); plt.ylabel('jump hazard'); plt.title('Shell\u2011jump hazard vs m\u2113'); plt.show()\n"
      ]
    },
    {
      "cell_type": "markdown",
      "metadata": {},
      "source": [
        "## Null (time\u2011shuffle) \u2014 the hazard vs m\u2113 peak should collapse"
      ]
    },
    {
      "cell_type": "code",
      "metadata": {},
      "execution_count": null,
      "outputs": [],
      "source": [
        "x_s = time_shuffle(x, block=int(fs*10), seed=123)\n",
        "out_s = detect_shell_jumps_series(x_s, fs, fmin=0.05, fmax=5.0, n_bands=8, energy_min=None, min_gap=int(fs*5))\n",
        "jumps_s = out_s['jumps']\n",
        "deltas_s = np.array([j[3] for j in jumps_s])\n",
        "plt.figure();\n",
        "if deltas_s.size>0:\n",
        "    plt.hist(deltas_s, bins=np.linspace(-2,2,21))\n",
        "else:\n",
        "    plt.plot([],[])\n",
        "plt.xlabel('\u0394log2 f'); plt.ylabel('count'); plt.title('Surrogate shell\u2011jumps (flat/sparse expected)'); plt.show()\n"
      ]
    }
  ],
  "metadata": {
    "kernelspec": {
      "display_name": "Python 3",
      "language": "python",
      "name": "python3"
    },
    "language_info": {
      "name": "python",
      "version": "3.11"
    }
  },
  "nbformat": 4,
  "nbformat_minor": 5
}